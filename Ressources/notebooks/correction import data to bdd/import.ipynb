{
 "cells": [
  {
   "cell_type": "markdown",
   "metadata": {},
   "source": [
    "# Données des objets perdus"
   ]
  },
  {
   "cell_type": "code",
   "execution_count": 18,
   "metadata": {},
   "outputs": [],
   "source": [
    "import requests"
   ]
  },
  {
   "cell_type": "code",
   "execution_count": 19,
   "metadata": {},
   "outputs": [],
   "source": [
    "def specific_url_lostitem(annee):\n",
    "    URL = \"https://ressources.data.sncf.com/\"\n",
    "    ressource = \"api/records/1.0/search/?dataset=objets-trouves-restitution&q=&rows=10000&sort=date&refine.gc_obo_gare_origine_r_name=Lille+Europe&refine.date=\"\n",
    "    month_format = f\"{annee}\"\n",
    "    return URL + ressource + month_format\n"
   ]
  },
  {
   "cell_type": "code",
   "execution_count": 22,
   "metadata": {},
   "outputs": [
    {
     "name": "stdout",
     "output_type": "stream",
     "text": [
      "request réalisée pour 2016\n"
     ]
    },
    {
     "name": "stderr",
     "output_type": "stream",
     "text": [
      "/var/folders/py/4rt338cj1ks4z3332m7l3f880000gp/T/ipykernel_26446/3245594921.py:28: SAWarning: Column 'LostItem.id' is marked as a member of the primary key for table 'LostItem', but has no Python-side or server-side default generator indicated, nor does it indicate 'autoincrement=True' or 'nullable=True', and no explicit value is passed.  Primary key columns typically may not store NULL. Note that as of SQLAlchemy 1.1, 'autoincrement=True' must be indicated explicitly for composite (e.g. multicolumn) primary keys if AUTO_INCREMENT/SERIAL/IDENTITY behavior is expected for one of the columns in the primary key. CREATE TABLE statements are impacted by this change as well on most backends.\n",
      "  session.commit()\n"
     ]
    },
    {
     "name": "stdout",
     "output_type": "stream",
     "text": [
      "request réalisée pour 2017\n"
     ]
    },
    {
     "name": "stderr",
     "output_type": "stream",
     "text": [
      "/var/folders/py/4rt338cj1ks4z3332m7l3f880000gp/T/ipykernel_26446/3245594921.py:28: SAWarning: Identity map already had an identity for (<class 'model.LostItem'>, (None, '2017-12-08T08:37:20+00:00'), None), replacing it with newly flushed object.   Are there load operations occurring inside of an event handler within the flush?\n",
      "  session.commit()\n",
      "/var/folders/py/4rt338cj1ks4z3332m7l3f880000gp/T/ipykernel_26446/3245594921.py:28: SAWarning: Identity map already had an identity for (<class 'model.LostItem'>, (None, '2017-12-09T08:10:34+00:00'), None), replacing it with newly flushed object.   Are there load operations occurring inside of an event handler within the flush?\n",
      "  session.commit()\n",
      "/var/folders/py/4rt338cj1ks4z3332m7l3f880000gp/T/ipykernel_26446/3245594921.py:28: SAWarning: Identity map already had an identity for (<class 'model.LostItem'>, (None, '2017-07-07T09:40:21+00:00'), None), replacing it with newly flushed object.   Are there load operations occurring inside of an event handler within the flush?\n",
      "  session.commit()\n",
      "/var/folders/py/4rt338cj1ks4z3332m7l3f880000gp/T/ipykernel_26446/3245594921.py:28: SAWarning: Identity map already had an identity for (<class 'model.LostItem'>, (None, '2017-11-30T08:48:33+00:00'), None), replacing it with newly flushed object.   Are there load operations occurring inside of an event handler within the flush?\n",
      "  session.commit()\n"
     ]
    },
    {
     "name": "stdout",
     "output_type": "stream",
     "text": [
      "request réalisée pour 2018\n",
      "request réalisée pour 2019\n",
      "request réalisée pour 2020\n",
      "request réalisée pour 2021\n",
      "request réalisée pour 2022\n"
     ]
    }
   ],
   "source": [
    "from model import LostItem\n",
    "from sqlalchemy.orm import sessionmaker\n",
    "from sqlalchemy import create_engine\n",
    "\n",
    "engine = create_engine('sqlite:///db.sqlite')\n",
    "Session = sessionmaker(bind=engine)\n",
    "session = Session()\n",
    "\n",
    "field_list = [\n",
    "    [\"type_objet\", \"gc_obo_type_c\"],\n",
    "    [\"date_restitution\", \"gc_obo_date_heure_restitution_c\"]\n",
    "]\n",
    "\n",
    "for annee in [2016,2017,2018,2019,2020,2021,2022]:\n",
    "    my_request = requests.get(specific_url_lostitem(annee))\n",
    "    print(f\"request réalisée pour {annee}\")\n",
    "    for lost_item in my_request.json()[\"records\"]:   \n",
    "        lost_item_data= {}\n",
    "        \n",
    "        for field in field_list:    \n",
    "            try: \n",
    "                lost_item_data[field[0]] = lost_item[\"fields\"][field[1]]\n",
    "            except KeyError:\n",
    "                lost_item_data[field[0]]=None\n",
    "\n",
    "        session.add(LostItem(date=lost_item[\"fields\"][\"date\"],**lost_item_data))\n",
    "    \n",
    "    session.commit()"
   ]
  },
  {
   "cell_type": "code",
   "execution_count": 38,
   "metadata": {},
   "outputs": [
    {
     "name": "stdout",
     "output_type": "stream",
     "text": [
      "2022-12-26 15:04:34.129774\n"
     ]
    }
   ],
   "source": [
    "import dateparser\n",
    "print(dateparser.parse(\"last week\"))"
   ]
  },
  {
   "cell_type": "code",
   "execution_count": 32,
   "metadata": {},
   "outputs": [],
   "source": [
    "def request_lost_item(start_date,end_date):\n",
    "    if isinstance(start_date,str): \n",
    "        import dateparser\n",
    "        start_date = dateparser.parse(start_date)\n",
    "    if isinstance(end_date,str): \n",
    "        import dateparser\n",
    "        end_date = dateparser.parse(end_date)\n",
    "    \n",
    "    start_date = str(start_date.date())\n",
    "    end_date =  str(end_date.date())\n",
    "    URL = \"https://ressources.data.sncf.com/\"\n",
    "    ressource = f\"api/records/1.0/search/?dataset=objets-trouves-restitution&q=date:[{start_date}%20TO%20{end_date}]&rows=10000&sort=date&refine.gc_obo_gare_origine_r_name=Lille+Europe\"\n",
    "    \n",
    "    my_request = requests.get(URL + ressource)\n",
    "\n",
    "    for lost_item in my_request.json()[\"records\"]:   \n",
    "        lost_item_data= {}\n",
    "        \n",
    "        for field in field_list:    \n",
    "            try: \n",
    "                lost_item_data[field[0]] = lost_item[\"fields\"][field[1]]\n",
    "            except KeyError:\n",
    "                lost_item_data[field[0]]=None\n",
    "\n",
    "        session.add(LostItem(date=lost_item[\"fields\"][\"date\"],**lost_item_data))\n",
    "    \n",
    "    session.commit()\n",
    "\n",
    "    return URL + ressource\n",
    "    \n",
    "\n",
    "    \n"
   ]
  },
  {
   "cell_type": "code",
   "execution_count": 34,
   "metadata": {},
   "outputs": [
    {
     "data": {
      "text/plain": [
       "'https://ressources.data.sncf.com/api/records/1.0/search/?dataset=objets-trouves-restitution&q=date:[2022-12-26%20TO%202023-01-02]&rows=10000&sort=date&refine.gc_obo_gare_origine_r_name=Lille+Europe'"
      ]
     },
     "execution_count": 34,
     "metadata": {},
     "output_type": "execute_result"
    }
   ],
   "source": [
    "from datetime import datetime\n",
    "request_lost_item(\"last week\", datetime.now())"
   ]
  },
  {
   "cell_type": "code",
   "execution_count": 10,
   "metadata": {},
   "outputs": [
    {
     "data": {
      "text/plain": [
       "datetime.datetime"
      ]
     },
     "execution_count": 10,
     "metadata": {},
     "output_type": "execute_result"
    }
   ],
   "source": [
    "from datetime import datetime\n",
    "specific_url_lostitem(\"today\", datetime.now())"
   ]
  }
 ],
 "metadata": {
  "kernelspec": {
   "display_name": "time_series",
   "language": "python",
   "name": "python3"
  },
  "language_info": {
   "codemirror_mode": {
    "name": "ipython",
    "version": 3
   },
   "file_extension": ".py",
   "mimetype": "text/x-python",
   "name": "python",
   "nbconvert_exporter": "python",
   "pygments_lexer": "ipython3",
   "version": "3.9.15"
  },
  "orig_nbformat": 4,
  "vscode": {
   "interpreter": {
    "hash": "6accc637e5118be52a78534533b7025f0fdddd2abfd740bb19f0fdffde4f5a93"
   }
  }
 },
 "nbformat": 4,
 "nbformat_minor": 2
}
